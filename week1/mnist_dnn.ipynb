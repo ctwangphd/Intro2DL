{
  "nbformat": 4,
  "nbformat_minor": 0,
  "metadata": {
    "colab": {
      "name": "mnist-dnn.ipynb",
      "version": "0.3.2",
      "provenance": []
    },
    "kernelspec": {
      "name": "python3",
      "display_name": "Python 3"
    },
    "accelerator": "GPU"
  },
  "cells": [
    {
      "metadata": {
        "id": "j4OHGNDmvST3",
        "colab_type": "text"
      },
      "cell_type": "markdown",
      "source": [
        "# Let's build and train a Deep Neural Network(DNN) to classify mnist data!"
      ]
    },
    {
      "metadata": {
        "id": "mB9h2pNz2Obz",
        "colab_type": "text"
      },
      "cell_type": "markdown",
      "source": [
        "# 使用 Keras 建立神經網絡\n",
        "[Keras](https://keras.io/)是一個在[Python](https://www.python.org/)上面運行的類神經網路API，能夠以數個機器學習框架作為後端運行，包括[TensorFlow](https://www.tensorflow.org/), [CNTK](https://www.microsoft.com/en-us/cognitive-toolkit/)和[Theano](http://deeplearning.net/software/theano/)。\n",
        "\n",
        "<!-- ![keras](https://s3.amazonaws.com/keras.io/img/keras-logo-2018-large-1200.png) -->\n",
        "\n",
        "<img src=\"https://s3.amazonaws.com/keras.io/img/keras-logo-2018-large-1200.png\" alt=\"Keras logo\" style=\"width:1120px;height:325px;\" />\n",
        "\n",
        "Keras 包含許多深度學習神經層、函數以及許多熱門模型( model )，這將有助於加速我們深度學習專案開發。"
      ]
    },
    {
      "metadata": {
        "id": "x96_sLjVvST7",
        "colab_type": "text"
      },
      "cell_type": "markdown",
      "source": [
        "## Import necessary Python libraries"
      ]
    },
    {
      "metadata": {
        "id": "7TwvyM7BvST-",
        "colab_type": "code",
        "colab": {}
      },
      "cell_type": "code",
      "source": [
        "% matplotlib inline\n",
        "import tensorflow as tf\n",
        "import numpy as np\n",
        "import pandas as pd\n",
        "import keras\n",
        "from keras.datasets import mnist\n",
        "from keras.models import Model\n",
        "from keras.layers import Input, Activation, Dense, Dropout\n",
        "from matplotlib import pyplot as plt\n",
        "from keras import backend as K\n",
        "K.tensorflow_backend._get_available_gpus()\n",
        "import os\n",
        "\n",
        "epochs = 3\n",
        "batch_size = 128\n",
        "num_classes = 10"
      ],
      "execution_count": 0,
      "outputs": []
    },
    {
      "metadata": {
        "id": "-0ucMsgP1nCJ",
        "colab_type": "text"
      },
      "cell_type": "markdown",
      "source": [
        ""
      ]
    },
    {
      "metadata": {
        "id": "cZqrwwQB1pq9",
        "colab_type": "text"
      },
      "cell_type": "markdown",
      "source": [
        "## Device information 硬體資訊"
      ]
    },
    {
      "metadata": {
        "id": "1aeal6Xu1pKK",
        "colab_type": "code",
        "colab": {
          "base_uri": "https://localhost:8080/",
          "height": 900
        },
        "outputId": "766a98f0-fbc6-43a3-d251-1106795a68af"
      },
      "cell_type": "code",
      "source": [
        "from tensorflow.python.client import device_lib\n",
        "print(device_lib.list_local_devices())"
      ],
      "execution_count": 43,
      "outputs": [
        {
          "output_type": "stream",
          "text": [
            "[name: \"/device:CPU:0\"\n",
            "device_type: \"CPU\"\n",
            "memory_limit: 268435456\n",
            "locality {\n",
            "}\n",
            "incarnation: 9966792708760514621\n",
            ", name: \"/device:XLA_CPU:0\"\n",
            "device_type: \"XLA_CPU\"\n",
            "memory_limit: 17179869184\n",
            "locality {\n",
            "}\n",
            "incarnation: 11369256374422078562\n",
            "physical_device_desc: \"device: XLA_CPU device\"\n",
            ", name: \"/device:XLA_GPU:0\"\n",
            "device_type: \"XLA_GPU\"\n",
            "memory_limit: 17179869184\n",
            "locality {\n",
            "}\n",
            "incarnation: 12105546537838786259\n",
            "physical_device_desc: \"device: XLA_GPU device\"\n",
            ", name: \"/device:GPU:0\"\n",
            "device_type: \"GPU\"\n",
            "memory_limit: 11281553818\n",
            "locality {\n",
            "  bus_id: 1\n",
            "  links {\n",
            "  }\n",
            "}\n",
            "incarnation: 1560080232975064234\n",
            "physical_device_desc: \"device: 0, name: Tesla K80, pci bus id: 0000:00:04.0, compute capability: 3.7\"\n",
            "]\n"
          ],
          "name": "stdout"
        }
      ]
    },
    {
      "metadata": {
        "id": "tpmP4_iY26Te",
        "colab_type": "text"
      },
      "cell_type": "markdown",
      "source": [
        "# 輸入資料\n",
        "**MNIST**是一個手寫數字的圖片資料集，具有60000張訓練集圖片，10000張測試集圖片，每張圖片的大小為28\\*28像素。\n",
        "<img src=\"https://upload.wikimedia.org/wikipedia/commons/2/27/MnistExamples.png\" alt=\"MNIST example\"/>\n",
        "\n",
        "<br>\n",
        "\n",
        "- 將圖片送入神經網路訓練以及測試之前，我們需要先將圖片轉換成平坦的陣列（784\\*1）\n",
        "<img src=\"https://www.cntk.ai/jup/cntk103a_MNIST_input.png\" alt=\"MNIST flatten\"/>\n",
        "\n",
        "- 此外，我們亦須將圖片的標籤從數字轉換成One-Hot陣列，例如：將5轉換成 [0, 0, 0, 0, 0, 1, 0, 0, 0, 0, 0]\n",
        "\n",
        "<img src=\"https://www.tensorflow.org/images/feature_columns/categorical_column_with_identity.jpg\" alt=\"One Hot encoding\"/>\n",
        "\n"
      ]
    },
    {
      "metadata": {
        "id": "5z04TzwmvSUJ",
        "colab_type": "text"
      },
      "cell_type": "markdown",
      "source": [
        "## Prepare data"
      ]
    },
    {
      "metadata": {
        "id": "BUzUHrdAvSUL",
        "colab_type": "code",
        "colab": {}
      },
      "cell_type": "code",
      "source": [
        "# Load data\n",
        "(x_train, y_train), (x_test, y_test) = mnist.load_data()\n",
        "\n",
        "x_train = x_train.astype('float32')\n",
        "x_test = x_test.astype('float32')\n",
        "x_train /= 255\n",
        "x_test /= 255\n",
        "x_train = x_train.reshape(x_train.shape[0], -1)\n",
        "x_test = x_test.reshape(x_test.shape[0], -1)\n",
        "\n",
        "# convert labales to categories, ex. 5 -> [0, 0, 0, 0, 0, 1, 0, 0, 0, 0, 0]\n",
        "y_train_OneHot = keras.utils.to_categorical(y_train, num_classes)\n",
        "y_test_OneHot = keras.utils.to_categorical(y_test, num_classes)"
      ],
      "execution_count": 0,
      "outputs": []
    },
    {
      "metadata": {
        "id": "RMdhqUbA3SoN",
        "colab_type": "code",
        "colab": {
          "base_uri": "https://localhost:8080/",
          "height": 34
        },
        "outputId": "859ca61c-e28f-4ac2-96a6-1a2a951606bf"
      },
      "cell_type": "code",
      "source": [
        "print(x_test.shape)"
      ],
      "execution_count": 46,
      "outputs": [
        {
          "output_type": "stream",
          "text": [
            "(10000, 784)\n"
          ],
          "name": "stdout"
        }
      ]
    },
    {
      "metadata": {
        "id": "GdIAVmuixD9A",
        "colab_type": "code",
        "colab": {}
      },
      "cell_type": "code",
      "source": [
        "def plot_images_labels_prediction(images,labels,prediction,idx,num=10):\n",
        "    fig = plt.gcf()\n",
        "    fig.set_size_inches(12, 14)\n",
        "    if num>25: \n",
        "        num=25\n",
        "    for i in range(0,num):\n",
        "        ax=plt.subplot(5,5, 1+i) # 建立子圖形為5x5\n",
        "        image = np.reshape(images[idx],(28,28))\n",
        "        ax.imshow(image, cmap='binary') # 畫出子圖形\n",
        "        l = labels[idx]\n",
        "        title= \"label= \" + str(l) # 宣告子圖形title字串,並加上標籤欄位\n",
        "        if len(prediction)>0: \n",
        "            p = prediction[idx]\n",
        "            title+=\" ,predict= \" + str(prediction[p]) # 若有預測結果,title加上預測結果\n",
        "        ax.set_title(title,fontsize=12) # 設定title與大小\n",
        "        ax.set_xticks([]);ax.set_yticks([]) # 設定不顯示刻度\n",
        "        idx+=1 \n",
        "    plt.show()"
      ],
      "execution_count": 0,
      "outputs": []
    },
    {
      "metadata": {
        "id": "1Tm-YUESxWxh",
        "colab_type": "code",
        "colab": {
          "base_uri": "https://localhost:8080/",
          "height": 319
        },
        "outputId": "7fecde5a-aea7-4bde-fb39-5b9150d490e9"
      },
      "cell_type": "code",
      "source": [
        "plot_images_labels_prediction(x_test, y_test, [], 0 , 10)"
      ],
      "execution_count": 41,
      "outputs": [
        {
          "output_type": "display_data",
          "data": {
            "image/png": "[encoded data removed]",
            "text/plain": [
              "<matplotlib.figure.Figure at 0x7f0349fda0b8>"
            ]
          },
          "metadata": {
            "tags": []
          }
        }
      ]
    },
    {
      "metadata": {
        "id": "P5a3CLvcvSUR",
        "colab_type": "text"
      },
      "cell_type": "markdown",
      "source": [
        "## Build DNN model"
      ]
    },
    {
      "metadata": {
        "id": "XqRia-qgvSUT",
        "colab_type": "code",
        "colab": {}
      },
      "cell_type": "code",
      "source": [
        "inputs = Input(shape=(784,))\n",
        "m = Dense(512)(inputs)\n",
        "m = Activation('relu')(m)\n",
        "m = Dropout(0.2)(m)\n",
        "m = Dense(512)(m)\n",
        "m = Activation('relu')(m)\n",
        "m = Dropout(0.2)(m)\n",
        "m = Dense(num_classes)(m)\n",
        "outputs = Activation('softmax')(m)\n",
        "model = Model(inputs=inputs, outputs=outputs)"
      ],
      "execution_count": 0,
      "outputs": []
    },
    {
      "metadata": {
        "id": "-yNCpUkEvSUb",
        "colab_type": "text"
      },
      "cell_type": "markdown",
      "source": [
        "## Show model overview"
      ]
    },
    {
      "metadata": {
        "id": "X-jsjQ7hvSUd",
        "colab_type": "code",
        "colab": {
          "base_uri": "https://localhost:8080/",
          "height": 442
        },
        "outputId": "70e3cd12-10b1-43dd-ab75-f3cefd63b026"
      },
      "cell_type": "code",
      "source": [
        "model.summary()"
      ],
      "execution_count": 6,
      "outputs": [
        {
          "output_type": "stream",
          "text": [
            "_________________________________________________________________\n",
            "Layer (type)                 Output Shape              Param #   \n",
            "=================================================================\n",
            "input_1 (InputLayer)         (None, 784)               0         \n",
            "_________________________________________________________________\n",
            "dense_1 (Dense)              (None, 512)               401920    \n",
            "_________________________________________________________________\n",
            "activation_1 (Activation)    (None, 512)               0         \n",
            "_________________________________________________________________\n",
            "dropout_1 (Dropout)          (None, 512)               0         \n",
            "_________________________________________________________________\n",
            "dense_2 (Dense)              (None, 512)               262656    \n",
            "_________________________________________________________________\n",
            "activation_2 (Activation)    (None, 512)               0         \n",
            "_________________________________________________________________\n",
            "dropout_2 (Dropout)          (None, 512)               0         \n",
            "_________________________________________________________________\n",
            "dense_3 (Dense)              (None, 10)                5130      \n",
            "_________________________________________________________________\n",
            "activation_3 (Activation)    (None, 10)                0         \n",
            "=================================================================\n",
            "Total params: 669,706\n",
            "Trainable params: 669,706\n",
            "Non-trainable params: 0\n",
            "_________________________________________________________________\n"
          ],
          "name": "stdout"
        }
      ]
    },
    {
      "metadata": {
        "id": "pnaBzNmdvSUl",
        "colab_type": "text"
      },
      "cell_type": "markdown",
      "source": [
        "## Compile model"
      ]
    },
    {
      "metadata": {
        "id": "mfrs-Db9vSUn",
        "colab_type": "code",
        "colab": {}
      },
      "cell_type": "code",
      "source": [
        "model.compile(loss=keras.losses.categorical_crossentropy,\n",
        "              optimizer=keras.optimizers.Adadelta(),\n",
        "              metrics=['accuracy'])"
      ],
      "execution_count": 0,
      "outputs": []
    },
    {
      "metadata": {
        "id": "0lorOgp6vSUs",
        "colab_type": "text"
      },
      "cell_type": "markdown",
      "source": [
        "## Start training!"
      ]
    },
    {
      "metadata": {
        "id": "wP01kbiuvSUt",
        "colab_type": "code",
        "colab": {
          "base_uri": "https://localhost:8080/",
          "height": 136
        },
        "outputId": "f0ebb117-5144-4a82-b9cf-c5d2a2286544"
      },
      "cell_type": "code",
      "source": [
        "history = model.fit(x_train, y_train_OneHot,\n",
        "          batch_size=batch_size,\n",
        "          epochs=epochs,\n",
        "          verbose=1,\n",
        "          validation_data=(x_test, y_test_OneHot))"
      ],
      "execution_count": 9,
      "outputs": [
        {
          "output_type": "stream",
          "text": [
            "Train on 60000 samples, validate on 10000 samples\n",
            "Epoch 1/3\n",
            "60000/60000 [==============================] - 5s 81us/step - loss: 0.2896 - acc: 0.9121 - val_loss: 0.1164 - val_acc: 0.9645\n",
            "Epoch 2/3\n",
            "60000/60000 [==============================] - 4s 64us/step - loss: 0.1146 - acc: 0.9641 - val_loss: 0.0998 - val_acc: 0.9697\n",
            "Epoch 3/3\n",
            "60000/60000 [==============================] - 4s 65us/step - loss: 0.0800 - acc: 0.9750 - val_loss: 0.0739 - val_acc: 0.9770\n"
          ],
          "name": "stdout"
        }
      ]
    },
    {
      "metadata": {
        "id": "EV3x0B_TvSU0",
        "colab_type": "text"
      },
      "cell_type": "markdown",
      "source": [
        "## Test loss/accuracy"
      ]
    },
    {
      "metadata": {
        "id": "l-j6SXpavSU2",
        "colab_type": "code",
        "colab": {
          "base_uri": "https://localhost:8080/",
          "height": 51
        },
        "outputId": "82ef2652-bfbb-490c-fa0d-3daf766d2efd"
      },
      "cell_type": "code",
      "source": [
        "score = model.evaluate(x_test, y_test_OneHot, verbose=0)\n",
        "print('Test loss:', score[0])\n",
        "print('Test accuracy:', score[1])"
      ],
      "execution_count": 11,
      "outputs": [
        {
          "output_type": "stream",
          "text": [
            "Test loss: 0.07394328961456194\n",
            "Test accuracy: 0.977\n"
          ],
          "name": "stdout"
        }
      ]
    },
    {
      "metadata": {
        "id": "fVvzR4lSvSU9",
        "colab_type": "text"
      },
      "cell_type": "markdown",
      "source": [
        "## Save keras model"
      ]
    },
    {
      "metadata": {
        "id": "ZgKHUbfUvSU_",
        "colab_type": "code",
        "colab": {}
      },
      "cell_type": "code",
      "source": [
        "# model_dir = 'keras-model'\n",
        "# model_h5 = 'model.h5'\n",
        "# model_json = 'model.json'\n",
        "# model_weights = 'weights.h5'\n",
        "\n",
        "# if not os.path.isdir(model_dir):\n",
        "#     os.makedirs(model_dir)\n",
        "# src_dir = os.getcwd()\n",
        "# os.chdir(model_dir)\n",
        "\n",
        "# with open(model_json, 'w') as f:\n",
        "#     f.write(model.to_json())\n",
        "\n",
        "# model.save(model_h5)\n",
        "# model.save_weights(model_weights)\n",
        "# os.chdir(src_dir)"
      ],
      "execution_count": 0,
      "outputs": []
    },
    {
      "metadata": {
        "id": "JccqS8YyvSVD",
        "colab_type": "text"
      },
      "cell_type": "markdown",
      "source": [
        "## Training process"
      ]
    },
    {
      "metadata": {
        "id": "VwvDmcajvSVE",
        "colab_type": "code",
        "colab": {
          "base_uri": "https://localhost:8080/",
          "height": 283
        },
        "outputId": "196226ce-35d6-4f5b-83e8-b7de996834d6"
      },
      "cell_type": "code",
      "source": [
        "plt.subplot(211)\n",
        "plt.plot(history.history['acc'])\n",
        "plt.plot(history.history['val_acc'])\n",
        "plt.ylabel('accuracy')\n",
        "plt.xlabel('epoch')\n",
        "plt.legend(['train', 'test'], loc='upper right')\n",
        "\n",
        "plt.subplot(212)\n",
        "plt.plot(history.history['loss'])\n",
        "plt.plot(history.history['val_loss'])\n",
        "plt.ylabel('loss')\n",
        "plt.xlabel('epoch')\n",
        "plt.legend(['train', 'test'], loc='upper right')\n",
        "plt.show()"
      ],
      "execution_count": 12,
      "outputs": [
        {
          "output_type": "display_data",
          "data": {
            "image/png": "[encoded data removed]",
            "text/plain": [
              "<matplotlib.figure.Figure at 0x7f034ca1fe10>"
            ]
          },
          "metadata": {
            "tags": []
          }
        }
      ]
    },
    {
      "metadata": {
        "id": "YClTNMeG9YMg",
        "colab_type": "text"
      },
      "cell_type": "markdown",
      "source": [
        "## 將測試集輸入訓練過的模型做預測"
      ]
    },
    {
      "metadata": {
        "id": "63Zad5v1Wi1R",
        "colab_type": "code",
        "colab": {}
      },
      "cell_type": "code",
      "source": [
        "prediction_OneHot = model.predict(x_test)\n",
        "prediction = np.argmax(prediction_OneHot, axis = 1)"
      ],
      "execution_count": 0,
      "outputs": []
    },
    {
      "metadata": {
        "id": "64roYKLY8KAz",
        "colab_type": "text"
      },
      "cell_type": "markdown",
      "source": [
        "## 混淆矩陣 confusion matrix\n",
        "- 我們可以使用混淆矩陣來檢視各個類別的數字圖片有多少是預測錯誤的"
      ]
    },
    {
      "metadata": {
        "id": "92nd3lKSVpeD",
        "colab_type": "code",
        "colab": {
          "base_uri": "https://localhost:8080/",
          "height": 390
        },
        "outputId": "5b179143-1a66-462e-a7b6-956c07dc3946"
      },
      "cell_type": "code",
      "source": [
        "pd.crosstab(y_test, prediction, rownames=['label'], colnames=['predict'])"
      ],
      "execution_count": 20,
      "outputs": [
        {
          "output_type": "execute_result",
          "data": {
            "text/html": [
              "<div>\n",
              "<style scoped>\n",
              "    .dataframe tbody tr th:only-of-type {\n",
              "        vertical-align: middle;\n",
              "    }\n",
              "\n",
              "    .dataframe tbody tr th {\n",
              "        vertical-align: top;\n",
              "    }\n",
              "\n",
              "    .dataframe thead th {\n",
              "        text-align: right;\n",
              "    }\n",
              "</style>\n",
              "<table border=\"1\" class=\"dataframe\">\n",
              "  <thead>\n",
              "    <tr style=\"text-align: right;\">\n",
              "      <th>predict</th>\n",
              "      <th>0</th>\n",
              "      <th>1</th>\n",
              "      <th>2</th>\n",
              "      <th>3</th>\n",
              "      <th>4</th>\n",
              "      <th>5</th>\n",
              "      <th>6</th>\n",
              "      <th>7</th>\n",
              "      <th>8</th>\n",
              "      <th>9</th>\n",
              "    </tr>\n",
              "    <tr>\n",
              "      <th>label</th>\n",
              "      <th></th>\n",
              "      <th></th>\n",
              "      <th></th>\n",
              "      <th></th>\n",
              "      <th></th>\n",
              "      <th></th>\n",
              "      <th></th>\n",
              "      <th></th>\n",
              "      <th></th>\n",
              "      <th></th>\n",
              "    </tr>\n",
              "  </thead>\n",
              "  <tbody>\n",
              "    <tr>\n",
              "      <th>0</th>\n",
              "      <td>972</td>\n",
              "      <td>1</td>\n",
              "      <td>1</td>\n",
              "      <td>0</td>\n",
              "      <td>0</td>\n",
              "      <td>2</td>\n",
              "      <td>2</td>\n",
              "      <td>1</td>\n",
              "      <td>1</td>\n",
              "      <td>0</td>\n",
              "    </tr>\n",
              "    <tr>\n",
              "      <th>1</th>\n",
              "      <td>0</td>\n",
              "      <td>1121</td>\n",
              "      <td>2</td>\n",
              "      <td>2</td>\n",
              "      <td>0</td>\n",
              "      <td>2</td>\n",
              "      <td>3</td>\n",
              "      <td>2</td>\n",
              "      <td>2</td>\n",
              "      <td>1</td>\n",
              "    </tr>\n",
              "    <tr>\n",
              "      <th>2</th>\n",
              "      <td>7</td>\n",
              "      <td>0</td>\n",
              "      <td>1000</td>\n",
              "      <td>7</td>\n",
              "      <td>1</td>\n",
              "      <td>0</td>\n",
              "      <td>3</td>\n",
              "      <td>7</td>\n",
              "      <td>7</td>\n",
              "      <td>0</td>\n",
              "    </tr>\n",
              "    <tr>\n",
              "      <th>3</th>\n",
              "      <td>0</td>\n",
              "      <td>0</td>\n",
              "      <td>3</td>\n",
              "      <td>985</td>\n",
              "      <td>0</td>\n",
              "      <td>7</td>\n",
              "      <td>0</td>\n",
              "      <td>6</td>\n",
              "      <td>4</td>\n",
              "      <td>5</td>\n",
              "    </tr>\n",
              "    <tr>\n",
              "      <th>4</th>\n",
              "      <td>0</td>\n",
              "      <td>0</td>\n",
              "      <td>3</td>\n",
              "      <td>0</td>\n",
              "      <td>953</td>\n",
              "      <td>0</td>\n",
              "      <td>5</td>\n",
              "      <td>3</td>\n",
              "      <td>2</td>\n",
              "      <td>16</td>\n",
              "    </tr>\n",
              "    <tr>\n",
              "      <th>5</th>\n",
              "      <td>3</td>\n",
              "      <td>0</td>\n",
              "      <td>0</td>\n",
              "      <td>5</td>\n",
              "      <td>1</td>\n",
              "      <td>875</td>\n",
              "      <td>3</td>\n",
              "      <td>1</td>\n",
              "      <td>1</td>\n",
              "      <td>3</td>\n",
              "    </tr>\n",
              "    <tr>\n",
              "      <th>6</th>\n",
              "      <td>4</td>\n",
              "      <td>3</td>\n",
              "      <td>0</td>\n",
              "      <td>0</td>\n",
              "      <td>3</td>\n",
              "      <td>6</td>\n",
              "      <td>940</td>\n",
              "      <td>1</td>\n",
              "      <td>1</td>\n",
              "      <td>0</td>\n",
              "    </tr>\n",
              "    <tr>\n",
              "      <th>7</th>\n",
              "      <td>2</td>\n",
              "      <td>4</td>\n",
              "      <td>7</td>\n",
              "      <td>3</td>\n",
              "      <td>0</td>\n",
              "      <td>0</td>\n",
              "      <td>0</td>\n",
              "      <td>1008</td>\n",
              "      <td>0</td>\n",
              "      <td>4</td>\n",
              "    </tr>\n",
              "    <tr>\n",
              "      <th>8</th>\n",
              "      <td>4</td>\n",
              "      <td>0</td>\n",
              "      <td>1</td>\n",
              "      <td>4</td>\n",
              "      <td>3</td>\n",
              "      <td>4</td>\n",
              "      <td>3</td>\n",
              "      <td>4</td>\n",
              "      <td>947</td>\n",
              "      <td>4</td>\n",
              "    </tr>\n",
              "    <tr>\n",
              "      <th>9</th>\n",
              "      <td>5</td>\n",
              "      <td>2</td>\n",
              "      <td>1</td>\n",
              "      <td>7</td>\n",
              "      <td>8</td>\n",
              "      <td>3</td>\n",
              "      <td>1</td>\n",
              "      <td>10</td>\n",
              "      <td>3</td>\n",
              "      <td>969</td>\n",
              "    </tr>\n",
              "  </tbody>\n",
              "</table>\n",
              "</div>"
            ],
            "text/plain": [
              "predict    0     1     2    3    4    5    6     7    8    9\n",
              "label                                                       \n",
              "0        972     1     1    0    0    2    2     1    1    0\n",
              "1          0  1121     2    2    0    2    3     2    2    1\n",
              "2          7     0  1000    7    1    0    3     7    7    0\n",
              "3          0     0     3  985    0    7    0     6    4    5\n",
              "4          0     0     3    0  953    0    5     3    2   16\n",
              "5          3     0     0    5    1  875    3     1    1    3\n",
              "6          4     3     0    0    3    6  940     1    1    0\n",
              "7          2     4     7    3    0    0    0  1008    0    4\n",
              "8          4     0     1    4    3    4    3     4  947    4\n",
              "9          5     2     1    7    8    3    1    10    3  969"
            ]
          },
          "metadata": {
            "tags": []
          },
          "execution_count": 20
        }
      ]
    },
    {
      "metadata": {
        "id": "eV7jt5FZroYI",
        "colab_type": "code",
        "colab": {}
      },
      "cell_type": "code",
      "source": [
        "def plot_error_pred(images, labels, prediction, label_num):\n",
        "    fig = plt.gcf()\n",
        "    fig.set_size_inches(12, 14)\n",
        "    count= 0\n",
        "    for i in range(0, len(images)):\n",
        "        if not (labels[i] == label_num and prediction[i] != label_num):\n",
        "            continue\n",
        "        image = images[i]\n",
        "        image = np.reshape(image,(28,28)).astype('float32')\n",
        "        ax=plt.subplot(5, 5, 1+count) # 建立子圖形為5x5\n",
        "        ax.imshow(image, cmap='binary') # 畫出子圖形\n",
        "        \n",
        "        title= \"label: \" + str(labels[i]) + \", prediction: \" + str(prediction[i])\n",
        "        \n",
        "        ax.set_title(title,fontsize=12) # 設定title與大小\n",
        "        ax.set_xticks([]);ax.set_yticks([]) # 設定不顯示刻度\n",
        "        count += 1\n",
        "        if count == 10: break;\n",
        "        \n",
        "    plt.show()"
      ],
      "execution_count": 0,
      "outputs": []
    },
    {
      "metadata": {
        "id": "StxIzAYg9H-7",
        "colab_type": "text"
      },
      "cell_type": "markdown",
      "source": [
        "最後，我們來看看有哪些手寫數字圖片是判斷錯誤的"
      ]
    },
    {
      "metadata": {
        "id": "Kux0rJT0uTBn",
        "colab_type": "code",
        "colab": {
          "base_uri": "https://localhost:8080/",
          "height": 319
        },
        "outputId": "f17ed6d7-9ad4-4b69-fefe-792e2c01969b"
      },
      "cell_type": "code",
      "source": [
        "plot_error_pred(x_test, y_test, prediction, 9)"
      ],
      "execution_count": 35,
      "outputs": [
        {
          "output_type": "display_data",
          "data": {
            "image/png": "[encoded data removed]",
            "text/plain": [
              "<matplotlib.figure.Figure at 0x7f034c9185f8>"
            ]
          },
          "metadata": {
            "tags": []
          }
        }
      ]
    },
    {
      "metadata": {
        "id": "Yo_A6xIHvhKY",
        "colab_type": "code",
        "colab": {}
      },
      "cell_type": "code",
      "source": [
        ""
      ],
      "execution_count": 0,
      "outputs": []
    }
  ]
}